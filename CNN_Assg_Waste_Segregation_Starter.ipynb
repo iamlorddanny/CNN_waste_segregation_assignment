{
  "cells": [
    {
      "cell_type": "markdown",
      "metadata": {
        "id": "lf5lYawIw8tE"
      },
      "source": [
        "# **Waste Material Segregation for Improving Waste Management**"
      ]
    },
    {
      "cell_type": "markdown",
      "metadata": {
        "id": "NY1InIbkw80B"
      },
      "source": [
        "## **Objective**\n",
        "\n",
        "The objective of this project is to implement an effective waste material segregation system using convolutional neural networks (CNNs) that categorises waste into distinct groups. This process enhances recycling efficiency, minimises environmental pollution, and promotes sustainable waste management practices.\n",
        "\n",
        "The key goals are:\n",
        "\n",
        "* Accurately classify waste materials into categories like cardboard, glass, paper, and plastic.\n",
        "* Improve waste segregation efficiency to support recycling and reduce landfill waste.\n",
        "* Understand the properties of different waste materials to optimise sorting methods for sustainability."
      ]
    },
    {
      "cell_type": "markdown",
      "metadata": {
        "id": "JZGTCfyUxalZ"
      },
      "source": [
        "## **Data Understanding**\n",
        "\n",
        "The Dataset consists of images of some common waste materials.\n",
        "\n",
        "1. Food Waste\n",
        "2. Metal\n",
        "3. Paper\n",
        "4. Plastic\n",
        "5. Other\n",
        "6. Cardboard\n",
        "7. Glass\n"
      ]
    },
    {
      "cell_type": "markdown",
      "metadata": {
        "id": "eZJtmMnzQjAr"
      },
      "source": [
        "**Data Description**\n",
        "\n",
        "* The dataset consists of multiple folders, each representing a specific class, such as `Cardboard`, `Food_Waste`, and `Metal`.\n",
        "* Within each folder, there are images of objects that belong to that category.\n",
        "* However, these items are not further subcategorised. <br> For instance, the `Food_Waste` folder may contain images of items like coffee grounds, teabags, and fruit peels, without explicitly stating that they are actually coffee grounds or teabags."
      ]
    },
    {
      "cell_type": "markdown",
      "metadata": {
        "id": "UBFt43WDzWSJ"
      },
      "source": [
        "## **1. Load the data**"
      ]
    },
    {
      "cell_type": "markdown",
      "metadata": {
        "id": "Dfy0rjJ1yzFl"
      },
      "source": [
        "Load and unzip the dataset zip file."
      ]
    },
    {
      "cell_type": "markdown",
      "metadata": {
        "id": "N35LLuWXzUQH"
      },
      "source": [
        "**Import Necessary Libraries**"
      ]
    },
    {
      "cell_type": "code",
      "execution_count": null,
      "metadata": {
        "id": "DmZo7m1-J_Ou"
      },
      "outputs": [],
      "source": [
        "# Recommended versions:\n",
        "\n",
        "# numpy version: 1.26.4\n",
        "# pandas version: 2.2.2\n",
        "# seaborn version: 0.13.2\n",
        "# matplotlib version: 3.10.0\n",
        "# PIL version: 11.1.0\n",
        "# tensorflow version: 2.18.0\n",
        "# keras version: 3.8.0\n",
        "# sklearn version: 1.6.1"
      ]
    },
    {
      "cell_type": "code",
      "source": [
        "from google.colab import drive\n",
        "drive.mount('/content/drive')"
      ],
      "metadata": {
        "id": "Q4K_aYV-AeCI"
      },
      "execution_count": null,
      "outputs": []
    },
    {
      "cell_type": "code",
      "execution_count": null,
      "metadata": {
        "id": "dzM50pygphUe"
      },
      "outputs": [],
      "source": [
        "# Import essential libraries\n",
        "import os\n",
        "import numpy as np\n",
        "import pandas as pd\n",
        "import matplotlib.pyplot as plt\n",
        "import seaborn as sns\n",
        "import random\n",
        "from PIL import Image\n",
        "import tensorflow as tf\n",
        "from tensorflow.keras.preprocessing.image import ImageDataGenerator\n",
        "from tensorflow.keras.models import Sequential\n",
        "from tensorflow.keras.layers import Conv2D, MaxPooling2D, Flatten, Dense, Dropout\n",
        "from sklearn.model_selection import train_test_split\n"
      ]
    },
    {
      "cell_type": "markdown",
      "metadata": {
        "id": "TNAzJi1c9WAX"
      },
      "source": [
        "Load the dataset."
      ]
    },
    {
      "cell_type": "code",
      "execution_count": null,
      "metadata": {
        "id": "VLpOZlyZsi0D"
      },
      "outputs": [],
      "source": [
        "import zipfile\n",
        "\n",
        "# Use raw strings to avoid escape character issues\n",
        "zip_path = '/content/drive/MyDrive/CNN_assignment/data.zip'\n",
        "extract_path = '/content/dataset'\n",
        "\n",
        "# Check and extract the zip file\n",
        "if os.path.exists(zip_path) and zipfile.is_zipfile(zip_path):\n",
        "    with zipfile.ZipFile(zip_path, 'r') as zip_ref:\n",
        "        zip_ref.extractall(extract_path)\n",
        "    print(f\" Dataset extracted to: {extract_path}\")\n",
        "else:\n",
        "    print(\" Zip file not found or invalid format.\")\n"
      ]
    },
    {
      "cell_type": "markdown",
      "metadata": {
        "id": "rDp_EWxVOhUu"
      },
      "source": [
        "## **2. Data Preparation** <font color=red> [25 marks] </font><br>\n"
      ]
    },
    {
      "cell_type": "markdown",
      "metadata": {
        "id": "S7Ac8VxvjWnw"
      },
      "source": [
        "### **2.1 Load and Preprocess Images** <font color=red> [8 marks] </font><br>"
      ]
    },
    {
      "cell_type": "markdown",
      "metadata": {
        "id": "ghmtINrMXDMy"
      },
      "source": [
        "Let us create a function to load the images first. We can then directly use this function while loading images of the different categories to load and crop them in a single step."
      ]
    },
    {
      "cell_type": "markdown",
      "metadata": {
        "id": "sZQ1UZNfQCWX"
      },
      "source": [
        "#### **2.1.1** <font color=red> [3 marks] </font><br>\n",
        "Create a function to load the images."
      ]
    },
    {
      "cell_type": "code",
      "source": [
        "def load_images_from_directory(base_dir, image_size=(128, 128)):\n",
        "    images = []\n",
        "    labels = []\n",
        "\n",
        "    for class_name in os.listdir(base_dir + \"/data\"):  # Subfolders are class names\n",
        "        class_path = os.path.join(base_dir, \"data\", class_name)\n",
        "        if os.path.isdir(class_path):  # Ensure it's a directory\n",
        "            for img_name in os.listdir(class_path):\n",
        "                img_path = os.path.join(class_path, img_name)\n",
        "                try:\n",
        "                    img = Image.open(img_path).convert('RGB')  # Make sure image is RGB\n",
        "                    img = img.resize(image_size)\n",
        "                    images.append(np.array(img))\n",
        "                    labels.append(class_name)\n",
        "                except Exception as e:\n",
        "                    print(f\"❌ Could not process file {img_path}: {e}\")\n",
        "\n",
        "    return images, labels\n"
      ],
      "metadata": {
        "id": "efdApxllCn7p"
      },
      "execution_count": null,
      "outputs": []
    },
    {
      "cell_type": "markdown",
      "metadata": {
        "id": "J01VQrLhQsxx"
      },
      "source": [
        "#### **2.1.2** <font color=red> [5 marks] </font><br>\n",
        "Load images and labels."
      ]
    },
    {
      "cell_type": "code",
      "execution_count": null,
      "metadata": {
        "id": "SOOzJGH3si0E"
      },
      "outputs": [],
      "source": [
        "# Load images and labels\n",
        "\n",
        "dataset_path = '/content/dataset'\n",
        "image_size = (128, 128)\n",
        "\n",
        "images, labels = load_images_from_directory(dataset_path, image_size)\n",
        "images = np.array(images)\n",
        "labels = np.array(labels)\n",
        "\n",
        "print(f\"Total images loaded: {len(images)}\")\n",
        "print(f\"Unique labels found: {set(labels)}\")\n"
      ]
    },
    {
      "cell_type": "markdown",
      "metadata": {
        "id": "_C9Oo0PTtYLf"
      },
      "source": [
        "Load the images from the dataset directory. Labels of images are present in the subdirectories.\n",
        "\n",
        "Verify if the images and labels are loaded correctly."
      ]
    },
    {
      "cell_type": "code",
      "execution_count": null,
      "metadata": {
        "id": "Zm2zlZbmamzy"
      },
      "outputs": [],
      "source": [
        "# Convert labels to numpy array (if not already done)\n",
        "labels = np.array(labels)\n",
        "\n",
        "# Verify if data looks correct\n",
        "print(f\"Image data shape: {images.shape}\")\n",
        "print(f\"First 5 labels: {labels[:5]}\")\n",
        "\n",
        "# Show 5 sample images with labels\n",
        "plt.figure(figsize=(10, 5))\n",
        "for i in range(5):\n",
        "    plt.subplot(1, 5, i+1)\n",
        "    plt.imshow(images[i].astype('uint8'))  # Ensures correct display\n",
        "    plt.title(labels[i])\n",
        "    plt.axis('off')\n",
        "plt.tight_layout()\n",
        "plt.show()\n"
      ]
    },
    {
      "cell_type": "markdown",
      "metadata": {
        "id": "26Is-EwKuyGf"
      },
      "source": [
        "Perform any operations, if needed, on the images and labels to get them into the desired format."
      ]
    },
    {
      "cell_type": "markdown",
      "metadata": {
        "id": "I64rs77bkAYk"
      },
      "source": [
        "### **2.2 Data Visualisation** <font color=red> [9 marks] </font><br>"
      ]
    },
    {
      "cell_type": "markdown",
      "metadata": {
        "id": "jCAepbyAQdI2"
      },
      "source": [
        "#### **2.2.1** <font color=red> [3 marks] </font><br>\n",
        "Create a bar plot to display the class distribution"
      ]
    },
    {
      "cell_type": "code",
      "execution_count": null,
      "metadata": {
        "id": "Gm5LuWSFqTac"
      },
      "outputs": [],
      "source": [
        "# Visualise Data Distribution\n",
        "\n",
        "# Convert labels list to a pandas Series for easier plotting\n",
        "label_series = pd.Series(labels)\n",
        "\n",
        "# Plot class distribution\n",
        "plt.figure(figsize=(10, 6))\n",
        "sns.countplot(x=label_series)\n",
        "plt.title(\"Class Distribution\")\n",
        "plt.xlabel(\"Class\")\n",
        "plt.ylabel(\"Number of Images\")\n",
        "plt.xticks(rotation=45)\n",
        "plt.tight_layout()\n",
        "plt.show()\n",
        "\n"
      ]
    },
    {
      "cell_type": "markdown",
      "metadata": {
        "id": "zNWsPfTzRh7x"
      },
      "source": [
        "#### **2.2.2** <font color=red> [3 marks] </font><br>\n",
        "Visualise some sample images"
      ]
    },
    {
      "cell_type": "code",
      "execution_count": null,
      "metadata": {
        "id": "37yXZzfLyOWt"
      },
      "outputs": [],
      "source": [
        "# Visualise Sample Images (across different labels)\n",
        "import random\n",
        "\n",
        "# Get unique classes\n",
        "classes = sorted(set(labels))\n",
        "\n",
        "# Plot sample images from each class\n",
        "plt.figure(figsize=(15, 10))\n",
        "for i, class_name in enumerate(classes):\n",
        "    # Find indices where label == class_name\n",
        "    class_indices = [idx for idx, lbl in enumerate(labels) if lbl == class_name]\n",
        "    img_idx = random.choice(class_indices)\n",
        "\n",
        "    plt.subplot(2, 4, i+1)  # adjust rows/cols depending on number of classes\n",
        "    plt.imshow(images[img_idx])\n",
        "    plt.title(class_name)\n",
        "    plt.axis('off')\n",
        "\n",
        "plt.suptitle(\"Sample Images from Each Class\")\n",
        "plt.tight_layout()\n",
        "plt.show()\n",
        "\n"
      ]
    },
    {
      "cell_type": "markdown",
      "metadata": {
        "id": "UqZW9BCtsi0F"
      },
      "source": [
        "Check for Image size consistency"
      ]
    },
    {
      "cell_type": "code",
      "execution_count": null,
      "metadata": {
        "id": "wp_yKi0tsi0F"
      },
      "outputs": [],
      "source": [
        "# Check that all images have the same shape\n",
        "unique_shapes = set([img.shape for img in images])\n",
        "print(f\"Unique image shapes in dataset: {unique_shapes}\")\n"
      ]
    },
    {
      "cell_type": "markdown",
      "source": [
        "Flatten all image pixels to view distribution\n"
      ],
      "metadata": {
        "id": "PVXR2qG-E0Gm"
      }
    },
    {
      "cell_type": "markdown",
      "metadata": {
        "id": "IrxdFzNigaYG"
      },
      "source": [
        "#### **2.2.3** <font color=red> [3 marks] </font><br>\n",
        "Based on the smallest and largest image dimensions, resize the images."
      ]
    },
    {
      "cell_type": "code",
      "execution_count": null,
      "metadata": {
        "id": "EyVvjNXqgIGe"
      },
      "outputs": [],
      "source": [
        "# Find the smallest and largest image dimensions from the data set\n",
        "# Gather width and height of all images\n",
        "widths = []\n",
        "heights = []\n",
        "\n",
        "for img in images:\n",
        "    h, w = img.shape[:2]\n",
        "    widths.append(w)\n",
        "    heights.append(h)\n",
        "\n",
        "# Find min and max\n",
        "min_w, max_w = min(widths), max(widths)\n",
        "min_h, max_h = min(heights), max(heights)\n",
        "\n",
        "print(f\"Smallest image dimensions: ({min_h}, {min_w})\")\n",
        "print(f\"Largest image dimensions: ({max_h}, {max_w})\")\n",
        "\n"
      ]
    },
    {
      "cell_type": "code",
      "execution_count": null,
      "metadata": {
        "id": "Fz7EutUrgKFZ"
      },
      "outputs": [],
      "source": [
        "# Resize the image dimensions\n",
        "# Resize all images to a consistent shape (128, 128)\n",
        "resized_images = []\n",
        "\n",
        "for img in images:\n",
        "    img_resized = np.array(Image.fromarray((img * 255).astype(np.uint8)).resize(image_size))\n",
        "    # Normalize the resized image back to [0, 1]\n",
        "    img_resized = img_resized / 255.0\n",
        "    resized_images.append(img_resized)\n",
        "\n",
        "# Convert to numpy array\n",
        "resized_images = np.array(resized_images)\n",
        "\n",
        "print(f\"All images resized to: {resized_images[0].shape}\")\n",
        "\n"
      ]
    },
    {
      "cell_type": "markdown",
      "metadata": {
        "id": "lCB8uOckR5li"
      },
      "source": [
        "### **2.3 Encoding the classes** <font color=red> [3 marks] </font><br>"
      ]
    },
    {
      "cell_type": "markdown",
      "metadata": {
        "id": "ZdC4dpTWt9eo"
      },
      "source": [
        "There are seven classes present in the data.\n",
        "\n",
        "\n",
        "\n",
        "We have extracted the images and their labels, and visualised their distribution. Now, we need to perform encoding on the labels. Encode the labels suitably."
      ]
    },
    {
      "cell_type": "markdown",
      "metadata": {
        "id": "_Nwd0Ztvkf7K"
      },
      "source": [
        "####**2.3.1** <font color=red> [3 marks] </font><br>\n",
        "Encode the target class labels."
      ]
    },
    {
      "cell_type": "code",
      "execution_count": null,
      "metadata": {
        "id": "qkyXDQN-660s"
      },
      "outputs": [],
      "source": [
        "# Encode the labels suitably\n",
        "# Get unique classes\n",
        "unique_classes = sorted(set(labels))\n",
        "label_to_index = {label: idx for idx, label in enumerate(unique_classes)}\n",
        "\n",
        "# Integer encode the labels\n",
        "encoded_labels = np.array([label_to_index[label] for label in labels])\n",
        "\n",
        "print(\"Label to index mapping:\", label_to_index)\n",
        "print(\"First 5 encoded labels:\", encoded_labels[:5])\n",
        "\n"
      ]
    },
    {
      "cell_type": "code",
      "source": [
        "# Integer encoding for labels\n",
        "unique_classes = sorted(set(labels))\n",
        "label_to_index = {label: idx for idx, label in enumerate(unique_classes)}\n",
        "encoded_labels = np.array([label_to_index[label] for label in labels])\n",
        "\n",
        "# Plot encoded label distribution\n",
        "plt.figure(figsize=(8, 5))\n",
        "sns.countplot(x=encoded_labels)\n",
        "plt.title(\"Encoded Label Distribution\")\n",
        "plt.xlabel(\"Encoded Label\")\n",
        "plt.ylabel(\"Count\")\n",
        "plt.xticks(ticks=range(len(unique_classes)), labels=unique_classes, rotation=45)\n",
        "plt.tight_layout()\n",
        "plt.show()\n"
      ],
      "metadata": {
        "id": "bBszUv40G-5w"
      },
      "execution_count": null,
      "outputs": []
    },
    {
      "cell_type": "markdown",
      "metadata": {
        "id": "SNBM4hsuSaoj"
      },
      "source": [
        "### **2.4 Data Splitting** <font color=red> [5 marks] </font><br>"
      ]
    },
    {
      "cell_type": "markdown",
      "metadata": {
        "id": "m0xw-Qlh29cZ"
      },
      "source": [
        "#### **2.4.1** <font color=red> [5 marks] </font><br>\n",
        "Split the dataset into training and validation sets"
      ]
    },
    {
      "cell_type": "code",
      "execution_count": null,
      "metadata": {
        "id": "TErpx_JOkwjO"
      },
      "outputs": [],
      "source": [
        "# Assign specified parts of the dataset to train and validation sets\n",
        "\n",
        "num_classes = len(unique_classes)\n",
        "one_hot_labels = np.eye(num_classes)[encoded_labels]\n",
        "\n",
        "# Split the data\n",
        "X_train, X_val, y_train, y_val = train_test_split(\n",
        "    images, one_hot_labels, test_size=0.2, random_state=42, stratify=encoded_labels\n",
        ")\n",
        "\n",
        "print(\"Training set shape:\", X_train.shape, y_train.shape)\n",
        "print(\"Validation set shape:\", X_val.shape, y_val.shape)"
      ]
    },
    {
      "cell_type": "markdown",
      "metadata": {
        "id": "mILXPeY-X-zP"
      },
      "source": [
        "## **3. Model Building and Evaluation** <font color=red> [20 marks] </font><br>"
      ]
    },
    {
      "cell_type": "markdown",
      "metadata": {
        "id": "4E0afHwy5M_i"
      },
      "source": [
        "### **3.1 Model building and training** <font color=red> [15 marks] </font><br>"
      ]
    },
    {
      "cell_type": "markdown",
      "metadata": {
        "id": "jsu8K3tL5a5Q"
      },
      "source": [
        "#### **3.1.1** <font color=red> [10 marks] </font><br>\n",
        "Build and compile the model. Use 3 convolutional layers. Add suitable normalisation, dropout, and fully connected layers to the model."
      ]
    },
    {
      "cell_type": "markdown",
      "metadata": {
        "id": "awW9V2lmMK_d"
      },
      "source": [
        "Test out different configurations and report the results in conclusions."
      ]
    },
    {
      "cell_type": "code",
      "source": [
        "from tensorflow.keras.callbacks import ModelCheckpoint, EarlyStopping, ReduceLROnPlateau, BatchNormalization\n"
      ],
      "metadata": {
        "id": "QKfZDGtWKiXE"
      },
      "execution_count": null,
      "outputs": []
    },
    {
      "cell_type": "markdown",
      "source": [
        "# Model 1"
      ],
      "metadata": {
        "id": "N_OW3kESd-JA"
      }
    },
    {
      "cell_type": "code",
      "execution_count": null,
      "metadata": {
        "id": "oD7-2EXdz_Cl"
      },
      "outputs": [],
      "source": [
        "# Build and compile the model\n",
        "model1 = Sequential([\n",
        "    Conv2D(32, (3, 3), activation='relu', input_shape=(128, 128, 3)),\n",
        "    BatchNormalization(),\n",
        "    MaxPooling2D(2, 2),\n",
        "    Dropout(0.2),\n",
        "\n",
        "    Conv2D(64, (3, 3), activation='relu'),\n",
        "    BatchNormalization(),\n",
        "    MaxPooling2D(2, 2),\n",
        "    Dropout(0.3),\n",
        "\n",
        "    Conv2D(128, (3, 3), activation='relu'),\n",
        "    BatchNormalization(),\n",
        "    MaxPooling2D(2, 2),\n",
        "    Dropout(0.3),\n",
        "\n",
        "    Flatten(),\n",
        "    Dense(256, activation='relu'),\n",
        "    Dropout(0.4),\n",
        "    Dense(7, activation='softmax')\n",
        "])\n",
        "\n",
        "model1.summary()\n"
      ]
    },
    {
      "cell_type": "markdown",
      "source": [
        "Add Augmentation to improve generalization"
      ],
      "metadata": {
        "id": "JV8K06sRI7Y9"
      }
    },
    {
      "cell_type": "code",
      "source": [
        "train_datagen = ImageDataGenerator(\n",
        "    rescale=1./255,\n",
        "    rotation_range=15,\n",
        "    width_shift_range=0.1,\n",
        "    height_shift_range=0.1,\n",
        "    shear_range=0.1,\n",
        "    zoom_range=0.1,\n",
        "    horizontal_flip=True,\n",
        "    fill_mode='nearest',\n",
        "    validation_split=0.2  # 20% for validation\n",
        ")\n",
        "\n",
        "train_generator = train_datagen.flow(\n",
        "    X_train, y_train,\n",
        "    batch_size=32,\n",
        "    subset='training'\n",
        ")\n",
        "\n",
        "val_generator = train_datagen.flow(\n",
        "    X_train, y_train,\n",
        "    batch_size=32,\n",
        "    subset='validation'\n",
        ")"
      ],
      "metadata": {
        "id": "ECk8F63pIWaZ"
      },
      "execution_count": null,
      "outputs": []
    },
    {
      "cell_type": "markdown",
      "metadata": {
        "id": "7t4duT1wX5wS"
      },
      "source": [
        "#### **3.1.2** <font color=red> [5 marks] </font><br>\n",
        "Train the model."
      ]
    },
    {
      "cell_type": "markdown",
      "metadata": {
        "id": "gcrEzo51Qj6w"
      },
      "source": [
        "Use appropriate metrics and callbacks as needed."
      ]
    },
    {
      "cell_type": "code",
      "source": [
        "# Compile the model\n",
        "model1.compile(\n",
        "    optimizer='adam',\n",
        "    loss='categorical_crossentropy',\n",
        "    metrics=['accuracy']\n",
        ")"
      ],
      "metadata": {
        "id": "OMYA3_7MkSvu"
      },
      "execution_count": null,
      "outputs": []
    },
    {
      "cell_type": "markdown",
      "source": [
        "Callbacks"
      ],
      "metadata": {
        "id": "J2MyJlpHKXpe"
      }
    },
    {
      "cell_type": "code",
      "source": [
        "checkpoint1 = ModelCheckpoint(\n",
        "    \"best_model1.keras\",\n",
        "    monitor='val_accuracy',\n",
        "    save_best_only=True,\n",
        "    verbose=1\n",
        ")\n",
        "\n",
        "early_stop1 = EarlyStopping(\n",
        "    monitor='val_accuracy',\n",
        "    patience=5,\n",
        "    restore_best_weights=True,\n",
        "    verbose=1\n",
        ")\n",
        "\n",
        "reduce_lr1 = ReduceLROnPlateau(\n",
        "    monitor='val_loss',\n",
        "    factor=0.2,\n",
        "    patience=3,\n",
        "    verbose=1,\n",
        "    min_lr=1e-5\n",
        ")"
      ],
      "metadata": {
        "id": "J2U-yzXeKRMw"
      },
      "execution_count": null,
      "outputs": []
    },
    {
      "cell_type": "code",
      "source": [
        "# Train the model\n",
        "history1 = model1.fit(\n",
        "    train_generator,\n",
        "    epochs=30,\n",
        "    validation_data=val_generator,\n",
        "    callbacks=[checkpoint, early_stop, reduce_lr]\n",
        ")"
      ],
      "metadata": {
        "id": "bCg9nVMRLFkB"
      },
      "execution_count": null,
      "outputs": []
    },
    {
      "cell_type": "code",
      "source": [
        "def plot_history(history):\n",
        "    plt.figure(figsize=(14, 5))\n",
        "\n",
        "    # Accuracy\n",
        "    plt.subplot(1, 2, 1)\n",
        "    plt.plot(history.history['accuracy'], label='Train Accuracy')\n",
        "    plt.plot(history.history['val_accuracy'], label='Val Accuracy')\n",
        "    plt.title('Model Accuracy')\n",
        "    plt.xlabel('Epochs')\n",
        "    plt.ylabel('Accuracy')\n",
        "    plt.legend()\n",
        "\n",
        "    # Loss\n",
        "    plt.subplot(1, 2, 2)\n",
        "    plt.plot(history.history['loss'], label='Train Loss')\n",
        "    plt.plot(history.history['val_loss'], label='Val Loss')\n",
        "    plt.title('Model Loss')\n",
        "    plt.xlabel('Epochs')\n",
        "    plt.ylabel('Loss')\n",
        "    plt.legend()\n",
        "\n",
        "    plt.tight_layout()\n",
        "    plt.show()\n",
        "\n",
        "plot_history(history1)"
      ],
      "metadata": {
        "id": "9K8FXyN1LjB8"
      },
      "execution_count": null,
      "outputs": []
    },
    {
      "cell_type": "markdown",
      "source": [
        "# Model 2\n"
      ],
      "metadata": {
        "id": "0n_zxj9IRbBD"
      }
    },
    {
      "cell_type": "code",
      "source": [
        "\n",
        "model2 = Sequential([\n",
        "    Conv2D(32, (3, 3), activation='relu', input_shape=(128, 128, 3)),\n",
        "    BatchNormalization(),\n",
        "    MaxPooling2D(2, 2),\n",
        "    Dropout(0.2),\n",
        "\n",
        "    Conv2D(64, (3, 3), activation='relu'),\n",
        "    BatchNormalization(),\n",
        "    MaxPooling2D(2, 2),\n",
        "    Dropout(0.3),\n",
        "\n",
        "    Conv2D(128, (3, 3), activation='relu'),\n",
        "    BatchNormalization(),\n",
        "    MaxPooling2D(2, 2),\n",
        "    Dropout(0.3),\n",
        "\n",
        "    Flatten(),\n",
        "    Dense(256, activation='relu'),\n",
        "    Dropout(0.4),\n",
        "    Dense(7, activation='softmax')\n",
        "])\n",
        "\n",
        "#Model 2 Summary\n",
        "\n",
        "model2.summary()"
      ],
      "metadata": {
        "id": "3qAsXcc3Q_qs"
      },
      "execution_count": null,
      "outputs": []
    },
    {
      "cell_type": "code",
      "source": [
        "# Training Model 2\n",
        "\n",
        "# Compile the model1\n",
        "\n",
        "model2.compile(\n",
        "    optimizer='adam',\n",
        "    loss='categorical_crossentropy',\n",
        "    metrics=['accuracy']\n",
        ")\n",
        "\n",
        "checkpoint2 = ModelCheckpoint(\n",
        "    \"best_model2.keras\",\n",
        "    monitor='val_accuracy',\n",
        "    save_best_only=True,\n",
        "    verbose=1\n",
        ")\n",
        "\n",
        "early_stop2 = EarlyStopping(\n",
        "    monitor='val_accuracy',\n",
        "    patience=5,\n",
        "    restore_best_weights=True,\n",
        "    verbose=1\n",
        ")\n",
        "\n",
        "reduce_lr2 = ReduceLROnPlateau(\n",
        "    monitor='val_loss',\n",
        "    factor=0.2,\n",
        "    patience=3,\n",
        "    verbose=1,\n",
        "    min_lr=1e-5\n",
        ")"
      ],
      "metadata": {
        "id": "X24shjGjTPho"
      },
      "execution_count": null,
      "outputs": []
    },
    {
      "cell_type": "code",
      "source": [
        "# Train the model2\n",
        "history2 = model2.fit(\n",
        "    train_generator,\n",
        "    epochs=30,\n",
        "    validation_data=val_generator,\n",
        "    callbacks=[checkpoint2, early_stop2, reduce_lr2]\n",
        ")\n",
        "\n",
        "# Plot History of Model 2\n",
        "plot_history(history2)\n"
      ],
      "metadata": {
        "id": "trYCLU5wTou6"
      },
      "execution_count": null,
      "outputs": []
    },
    {
      "cell_type": "markdown",
      "source": [
        "# Model 3"
      ],
      "metadata": {
        "id": "FkaspDAMSLxb"
      }
    },
    {
      "cell_type": "code",
      "source": [
        "model3 = Sequential([\n",
        "    Conv2D(16, (3, 3), activation='relu', input_shape=(128, 128, 3)),\n",
        "    MaxPooling2D(2, 2),\n",
        "    Dropout(0.2),\n",
        "\n",
        "    Conv2D(32, (3, 3), activation='relu'),\n",
        "    MaxPooling2D(2, 2),\n",
        "    Dropout(0.3),\n",
        "\n",
        "    Flatten(),\n",
        "    Dense(512, activation='relu'),\n",
        "    Dropout(0.4),\n",
        "    Dense(256, activation='relu'),\n",
        "    Dropout(0.3),\n",
        "    Dense(7, activation='softmax')\n",
        "])\n"
      ],
      "metadata": {
        "id": "3ywQiY5xSBjp"
      },
      "execution_count": null,
      "outputs": []
    },
    {
      "cell_type": "code",
      "source": [
        "model3.summary()\n"
      ],
      "metadata": {
        "id": "UBX9saN5UAqG"
      },
      "execution_count": null,
      "outputs": []
    },
    {
      "cell_type": "code",
      "source": [
        "# Training Model 3\n",
        "\n",
        "# Compile the model 3\n",
        "\n",
        "model3.compile(\n",
        "    optimizer='adam',\n",
        "    loss='categorical_crossentropy',\n",
        "    metrics=['accuracy']\n",
        "\n",
        "\n",
        "checkpoint3 = ModelCheckpoint(\n",
        "    \"best_model3.keras\",\n",
        "    monitor='val_accuracy',\n",
        "    save_best_only=True,\n",
        "    verbose=1\n",
        ")\n",
        "\n",
        "early_stop3 = EarlyStopping(\n",
        "    monitor='val_accuracy',\n",
        "    patience=5,\n",
        "    restore_best_weights=True,\n",
        "    verbose=1\n",
        ")\n",
        "\n",
        "reduce_lr3 = ReduceLROnPlateau(\n",
        "    monitor='val_loss',\n",
        "    factor=0.2,\n",
        "    patience=3,\n",
        "    verbose=1,\n",
        "    min_lr=1e-5\n",
        ")\n"
      ],
      "metadata": {
        "id": "q0t7ngmuUG4O"
      },
      "execution_count": null,
      "outputs": []
    },
    {
      "cell_type": "code",
      "source": [
        "\n",
        "# Train the model3\n",
        "history3 = model3.fit(\n",
        "    train_generator,\n",
        "    epochs=30,\n",
        "    validation_data=val_generator,\n",
        "    callbacks=[checkpoint3, early_stop3, reduce_lr3]\n",
        ")\n",
        "\n",
        "# Plot History of Model 3\n",
        "plot_history(history3)"
      ],
      "metadata": {
        "id": "4cbrNkeUdBbA"
      },
      "execution_count": null,
      "outputs": []
    },
    {
      "cell_type": "markdown",
      "metadata": {
        "id": "YWT-bIj9YVzh"
      },
      "source": [
        "### **3.2 Model Testing and Evaluation** <font color=red> [5 marks] </font><br>"
      ]
    },
    {
      "cell_type": "markdown",
      "metadata": {
        "id": "XjhU3i5v59d6"
      },
      "source": [
        "#### **3.2.1** <font color=red> [5 marks] </font><br>\n",
        "Evaluate the model on test dataset. Derive appropriate metrics."
      ]
    },
    {
      "cell_type": "code",
      "execution_count": null,
      "metadata": {
        "id": "d_MtfUM_4y7j"
      },
      "outputs": [],
      "source": [
        "# Evaluate on the test set; display suitable metrics\n",
        "\n"
      ]
    },
    {
      "cell_type": "markdown",
      "metadata": {
        "id": "utro5JdHS0JM"
      },
      "source": [
        "## **4. Data Augmentation** <font color=red> [optional] </font><br>"
      ]
    },
    {
      "cell_type": "markdown",
      "metadata": {
        "id": "1T6QlG4eS4xi"
      },
      "source": [
        "#### **4.1 Create a Data Augmentation Pipeline**"
      ]
    },
    {
      "cell_type": "markdown",
      "metadata": {
        "id": "7AXlfuoa4jQV"
      },
      "source": [
        "##### **4.1.1**\n",
        "Define augmentation steps for the datasets."
      ]
    },
    {
      "cell_type": "code",
      "execution_count": null,
      "metadata": {
        "id": "vbHCwkX0dq0R"
      },
      "outputs": [],
      "source": [
        "# Define augmentation steps to augment images\n",
        "\n"
      ]
    },
    {
      "cell_type": "markdown",
      "metadata": {
        "id": "07i11vgMEmM2"
      },
      "source": [
        "Augment and resample the images.\n",
        "In case of class imbalance, you can also perform adequate undersampling on the majority class and augment those images to ensure consistency in the input datasets for both classes."
      ]
    },
    {
      "cell_type": "markdown",
      "metadata": {
        "id": "chvmgE2r4xPZ"
      },
      "source": [
        "Augment the images."
      ]
    },
    {
      "cell_type": "code",
      "execution_count": null,
      "metadata": {
        "id": "6-JBheeYFS8d"
      },
      "outputs": [],
      "source": [
        "# Create a function to augment the images\n",
        "\n",
        "\n"
      ]
    },
    {
      "cell_type": "code",
      "execution_count": null,
      "metadata": {
        "id": "Ddy1y1nPIlvM"
      },
      "outputs": [],
      "source": [
        "# Create the augmented training dataset\n",
        "\n"
      ]
    },
    {
      "cell_type": "markdown",
      "metadata": {
        "id": "bZYekkw9TCvP"
      },
      "source": [
        "##### **4.1.2**\n",
        "\n",
        "Train the model on the new augmented dataset."
      ]
    },
    {
      "cell_type": "code",
      "execution_count": null,
      "metadata": {
        "id": "tBcRbt57FEct"
      },
      "outputs": [],
      "source": [
        "# Train the model using augmented images\n",
        "\n"
      ]
    },
    {
      "cell_type": "markdown",
      "metadata": {
        "id": "xFPuXAvHkJVz"
      },
      "source": [
        "## **5. Conclusions** <font color = red> [5 marks]</font>"
      ]
    },
    {
      "cell_type": "markdown",
      "metadata": {
        "id": "33tWCHjpO5hH"
      },
      "source": [
        "#### **5.1 Conclude with outcomes and insights gained** <font color =red> [5 marks] </font>"
      ]
    },
    {
      "cell_type": "markdown",
      "metadata": {
        "id": "a3e1TLo2kWi0"
      },
      "source": [
        "* Report your findings about the data\n",
        "* Report model training results"
      ]
    }
  ],
  "metadata": {
    "accelerator": "GPU",
    "colab": {
      "gpuType": "T4",
      "provenance": [],
      "private_outputs": true,
      "history_visible": true
    },
    "kernelspec": {
      "display_name": "Python 3",
      "name": "python3"
    },
    "language_info": {
      "codemirror_mode": {
        "name": "ipython",
        "version": 3
      },
      "file_extension": ".py",
      "mimetype": "text/x-python",
      "name": "python",
      "nbconvert_exporter": "python",
      "pygments_lexer": "ipython3",
      "version": "3.12.7"
    }
  },
  "nbformat": 4,
  "nbformat_minor": 0
}